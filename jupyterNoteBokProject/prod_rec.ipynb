{
 "cells": [
  {
   "cell_type": "code",
   "execution_count": 1,
   "id": "125623fd-ed93-4197-8069-74adb5867294",
   "metadata": {},
   "outputs": [],
   "source": [
    "import pandas as pd\n",
    "import numpy as np\n",
    "import matplotlib.pyplot as plt\n",
    "import seaborn as sns"
   ]
  },
  {
   "cell_type": "code",
   "execution_count": 2,
   "id": "9c105f89-a6c5-4fb2-a5b3-e8ef2081138f",
   "metadata": {},
   "outputs": [],
   "source": [
    "games = pd.read_csv('../Resources/game_info.csv')"
   ]
  },
  {
   "cell_type": "code",
   "execution_count": 3,
   "id": "6424e0d9-47e0-4a0c-b396-8388beced389",
   "metadata": {},
   "outputs": [
    {
     "data": {
      "text/html": [
       "<div>\n",
       "<style scoped>\n",
       "    .dataframe tbody tr th:only-of-type {\n",
       "        vertical-align: middle;\n",
       "    }\n",
       "\n",
       "    .dataframe tbody tr th {\n",
       "        vertical-align: top;\n",
       "    }\n",
       "\n",
       "    .dataframe thead th {\n",
       "        text-align: right;\n",
       "    }\n",
       "</style>\n",
       "<table border=\"1\" class=\"dataframe\">\n",
       "  <thead>\n",
       "    <tr style=\"text-align: right;\">\n",
       "      <th></th>\n",
       "      <th>id</th>\n",
       "      <th>slug</th>\n",
       "      <th>name</th>\n",
       "      <th>metacritic</th>\n",
       "      <th>released</th>\n",
       "      <th>tba</th>\n",
       "      <th>updated</th>\n",
       "      <th>website</th>\n",
       "      <th>rating</th>\n",
       "      <th>rating_top</th>\n",
       "      <th>...</th>\n",
       "      <th>developers</th>\n",
       "      <th>genres</th>\n",
       "      <th>publishers</th>\n",
       "      <th>esrb_rating</th>\n",
       "      <th>added_status_yet</th>\n",
       "      <th>added_status_owned</th>\n",
       "      <th>added_status_beaten</th>\n",
       "      <th>added_status_toplay</th>\n",
       "      <th>added_status_dropped</th>\n",
       "      <th>added_status_playing</th>\n",
       "    </tr>\n",
       "  </thead>\n",
       "  <tbody>\n",
       "    <tr>\n",
       "      <th>0</th>\n",
       "      <td>1</td>\n",
       "      <td>dgeneration-hd</td>\n",
       "      <td>D/Generation HD</td>\n",
       "      <td>NaN</td>\n",
       "      <td>2015-10-23</td>\n",
       "      <td>False</td>\n",
       "      <td>2019-09-17T11:58:57</td>\n",
       "      <td>http://dgeneration.net</td>\n",
       "      <td>0.0</td>\n",
       "      <td>0</td>\n",
       "      <td>...</td>\n",
       "      <td>West Coast Software</td>\n",
       "      <td>Adventure||Puzzle</td>\n",
       "      <td>West Coast Software</td>\n",
       "      <td>Everyone 10+</td>\n",
       "      <td>4</td>\n",
       "      <td>88</td>\n",
       "      <td>2</td>\n",
       "      <td>2</td>\n",
       "      <td>0</td>\n",
       "      <td>0</td>\n",
       "    </tr>\n",
       "    <tr>\n",
       "      <th>1</th>\n",
       "      <td>10</td>\n",
       "      <td>g-prime</td>\n",
       "      <td>G Prime Into The Rain</td>\n",
       "      <td>NaN</td>\n",
       "      <td>2016-01-06</td>\n",
       "      <td>False</td>\n",
       "      <td>2019-11-06T23:04:19</td>\n",
       "      <td>NaN</td>\n",
       "      <td>0.0</td>\n",
       "      <td>0</td>\n",
       "      <td>...</td>\n",
       "      <td>Soma Games</td>\n",
       "      <td>Simulation||Indie</td>\n",
       "      <td>Immanitas Entertainment||Code-Monkeys</td>\n",
       "      <td>Everyone</td>\n",
       "      <td>2</td>\n",
       "      <td>42</td>\n",
       "      <td>2</td>\n",
       "      <td>0</td>\n",
       "      <td>0</td>\n",
       "      <td>0</td>\n",
       "    </tr>\n",
       "  </tbody>\n",
       "</table>\n",
       "<p>2 rows × 27 columns</p>\n",
       "</div>"
      ],
      "text/plain": [
       "   id            slug                   name  metacritic    released    tba  \\\n",
       "0   1  dgeneration-hd        D/Generation HD         NaN  2015-10-23  False   \n",
       "1  10         g-prime  G Prime Into The Rain         NaN  2016-01-06  False   \n",
       "\n",
       "               updated                 website  rating  rating_top  ...  \\\n",
       "0  2019-09-17T11:58:57  http://dgeneration.net     0.0           0  ...   \n",
       "1  2019-11-06T23:04:19                     NaN     0.0           0  ...   \n",
       "\n",
       "            developers             genres  \\\n",
       "0  West Coast Software  Adventure||Puzzle   \n",
       "1           Soma Games  Simulation||Indie   \n",
       "\n",
       "                              publishers   esrb_rating  added_status_yet  \\\n",
       "0                    West Coast Software  Everyone 10+                 4   \n",
       "1  Immanitas Entertainment||Code-Monkeys      Everyone                 2   \n",
       "\n",
       "   added_status_owned added_status_beaten added_status_toplay  \\\n",
       "0                  88                   2                   2   \n",
       "1                  42                   2                   0   \n",
       "\n",
       "  added_status_dropped added_status_playing  \n",
       "0                    0                    0  \n",
       "1                    0                    0  \n",
       "\n",
       "[2 rows x 27 columns]"
      ]
     },
     "execution_count": 3,
     "metadata": {},
     "output_type": "execute_result"
    }
   ],
   "source": [
    "games.head(2)"
   ]
  },
  {
   "cell_type": "code",
   "execution_count": 4,
   "id": "46fa03ff-1ce4-4c08-9217-ba27c40d9450",
   "metadata": {},
   "outputs": [
    {
     "data": {
      "text/plain": [
       "(474417, 27)"
      ]
     },
     "execution_count": 4,
     "metadata": {},
     "output_type": "execute_result"
    }
   ],
   "source": [
    "games.shape"
   ]
  },
  {
   "cell_type": "code",
   "execution_count": 5,
   "id": "98c4e970-676f-4d0b-b7bb-63c17e8debb1",
   "metadata": {},
   "outputs": [
    {
     "data": {
      "text/plain": [
       "Index(['id', 'slug', 'name', 'metacritic', 'released', 'tba', 'updated',\n",
       "       'website', 'rating', 'rating_top', 'playtime', 'achievements_count',\n",
       "       'ratings_count', 'suggestions_count', 'game_series_count',\n",
       "       'reviews_count', 'platforms', 'developers', 'genres', 'publishers',\n",
       "       'esrb_rating', 'added_status_yet', 'added_status_owned',\n",
       "       'added_status_beaten', 'added_status_toplay', 'added_status_dropped',\n",
       "       'added_status_playing'],\n",
       "      dtype='object')"
      ]
     },
     "execution_count": 5,
     "metadata": {},
     "output_type": "execute_result"
    }
   ],
   "source": [
    "games.columns"
   ]
  },
  {
   "cell_type": "code",
   "execution_count": 6,
   "id": "c38522a6-8af1-48d4-b24e-7a725e13ac5b",
   "metadata": {},
   "outputs": [],
   "source": [
    "games = games[['id', 'name', 'released', 'developers','publishers']]"
   ]
  },
  {
   "cell_type": "code",
   "execution_count": 7,
   "id": "a8e18d57-12d9-41d0-89d5-9b3818a77986",
   "metadata": {},
   "outputs": [
    {
     "data": {
      "text/html": [
       "<div>\n",
       "<style scoped>\n",
       "    .dataframe tbody tr th:only-of-type {\n",
       "        vertical-align: middle;\n",
       "    }\n",
       "\n",
       "    .dataframe tbody tr th {\n",
       "        vertical-align: top;\n",
       "    }\n",
       "\n",
       "    .dataframe thead th {\n",
       "        text-align: right;\n",
       "    }\n",
       "</style>\n",
       "<table border=\"1\" class=\"dataframe\">\n",
       "  <thead>\n",
       "    <tr style=\"text-align: right;\">\n",
       "      <th></th>\n",
       "      <th>id</th>\n",
       "      <th>name</th>\n",
       "      <th>released</th>\n",
       "      <th>developers</th>\n",
       "      <th>publishers</th>\n",
       "    </tr>\n",
       "  </thead>\n",
       "  <tbody>\n",
       "    <tr>\n",
       "      <th>0</th>\n",
       "      <td>1</td>\n",
       "      <td>D/Generation HD</td>\n",
       "      <td>2015-10-23</td>\n",
       "      <td>West Coast Software</td>\n",
       "      <td>West Coast Software</td>\n",
       "    </tr>\n",
       "    <tr>\n",
       "      <th>1</th>\n",
       "      <td>10</td>\n",
       "      <td>G Prime Into The Rain</td>\n",
       "      <td>2016-01-06</td>\n",
       "      <td>Soma Games</td>\n",
       "      <td>Immanitas Entertainment||Code-Monkeys</td>\n",
       "    </tr>\n",
       "  </tbody>\n",
       "</table>\n",
       "</div>"
      ],
      "text/plain": [
       "   id                   name    released           developers  \\\n",
       "0   1        D/Generation HD  2015-10-23  West Coast Software   \n",
       "1  10  G Prime Into The Rain  2016-01-06           Soma Games   \n",
       "\n",
       "                              publishers  \n",
       "0                    West Coast Software  \n",
       "1  Immanitas Entertainment||Code-Monkeys  "
      ]
     },
     "execution_count": 7,
     "metadata": {},
     "output_type": "execute_result"
    }
   ],
   "source": [
    "games.head(2)"
   ]
  },
  {
   "cell_type": "code",
   "execution_count": 8,
   "id": "e7ec5bb4-9045-490e-ae3b-b57b94606aaa",
   "metadata": {},
   "outputs": [],
   "source": [
    "users = pd.read_csv('../Resources/user_info.csv')"
   ]
  },
  {
   "cell_type": "code",
   "execution_count": 9,
   "id": "a687d06b-72b0-4e60-a27e-4e0a8ceb9bbd",
   "metadata": {},
   "outputs": [
    {
     "data": {
      "text/plain": [
       "(980, 6)"
      ]
     },
     "execution_count": 9,
     "metadata": {},
     "output_type": "execute_result"
    }
   ],
   "source": [
    "users.shape"
   ]
  },
  {
   "cell_type": "code",
   "execution_count": 10,
   "id": "c630efd4-b90c-478f-88ca-441f79b195d9",
   "metadata": {},
   "outputs": [
    {
     "data": {
      "text/html": [
       "<div>\n",
       "<style scoped>\n",
       "    .dataframe tbody tr th:only-of-type {\n",
       "        vertical-align: middle;\n",
       "    }\n",
       "\n",
       "    .dataframe tbody tr th {\n",
       "        vertical-align: top;\n",
       "    }\n",
       "\n",
       "    .dataframe thead th {\n",
       "        text-align: right;\n",
       "    }\n",
       "</style>\n",
       "<table border=\"1\" class=\"dataframe\">\n",
       "  <thead>\n",
       "    <tr style=\"text-align: right;\">\n",
       "      <th></th>\n",
       "      <th>User ID</th>\n",
       "      <th>first_name</th>\n",
       "      <th>last_name</th>\n",
       "      <th>email</th>\n",
       "      <th>gender</th>\n",
       "      <th>age</th>\n",
       "    </tr>\n",
       "  </thead>\n",
       "  <tbody>\n",
       "    <tr>\n",
       "      <th>0</th>\n",
       "      <td>1</td>\n",
       "      <td>Zachariah</td>\n",
       "      <td>Hairyes</td>\n",
       "      <td>zhairyes0@epa.gov</td>\n",
       "      <td>Male</td>\n",
       "      <td>20</td>\n",
       "    </tr>\n",
       "    <tr>\n",
       "      <th>1</th>\n",
       "      <td>2</td>\n",
       "      <td>Doug</td>\n",
       "      <td>Minihan</td>\n",
       "      <td>dminihan1@cam.ac.uk</td>\n",
       "      <td>Non-binary</td>\n",
       "      <td>23</td>\n",
       "    </tr>\n",
       "    <tr>\n",
       "      <th>2</th>\n",
       "      <td>3</td>\n",
       "      <td>Yvonne</td>\n",
       "      <td>Kopps</td>\n",
       "      <td>ykopps2@live.com</td>\n",
       "      <td>Female</td>\n",
       "      <td>68</td>\n",
       "    </tr>\n",
       "  </tbody>\n",
       "</table>\n",
       "</div>"
      ],
      "text/plain": [
       "   User ID first_name last_name                email      gender  age\n",
       "0        1  Zachariah   Hairyes    zhairyes0@epa.gov        Male   20\n",
       "1        2       Doug   Minihan  dminihan1@cam.ac.uk  Non-binary   23\n",
       "2        3     Yvonne     Kopps     ykopps2@live.com      Female   68"
      ]
     },
     "execution_count": 10,
     "metadata": {},
     "output_type": "execute_result"
    }
   ],
   "source": [
    "users.head(3)"
   ]
  },
  {
   "cell_type": "code",
   "execution_count": 11,
   "id": "8adcc2d5-c6b4-4dc4-a25d-6bae2f9f44fb",
   "metadata": {},
   "outputs": [],
   "source": [
    "users = users[['User ID', 'email', 'age']]"
   ]
  },
  {
   "cell_type": "code",
   "execution_count": 12,
   "id": "bcd3e2a4-f91c-4e03-a864-a4596e1c4172",
   "metadata": {},
   "outputs": [
    {
     "data": {
      "text/html": [
       "<div>\n",
       "<style scoped>\n",
       "    .dataframe tbody tr th:only-of-type {\n",
       "        vertical-align: middle;\n",
       "    }\n",
       "\n",
       "    .dataframe tbody tr th {\n",
       "        vertical-align: top;\n",
       "    }\n",
       "\n",
       "    .dataframe thead th {\n",
       "        text-align: right;\n",
       "    }\n",
       "</style>\n",
       "<table border=\"1\" class=\"dataframe\">\n",
       "  <thead>\n",
       "    <tr style=\"text-align: right;\">\n",
       "      <th></th>\n",
       "      <th>User ID</th>\n",
       "      <th>email</th>\n",
       "      <th>age</th>\n",
       "    </tr>\n",
       "  </thead>\n",
       "  <tbody>\n",
       "    <tr>\n",
       "      <th>0</th>\n",
       "      <td>1</td>\n",
       "      <td>zhairyes0@epa.gov</td>\n",
       "      <td>20</td>\n",
       "    </tr>\n",
       "    <tr>\n",
       "      <th>1</th>\n",
       "      <td>2</td>\n",
       "      <td>dminihan1@cam.ac.uk</td>\n",
       "      <td>23</td>\n",
       "    </tr>\n",
       "    <tr>\n",
       "      <th>2</th>\n",
       "      <td>3</td>\n",
       "      <td>ykopps2@live.com</td>\n",
       "      <td>68</td>\n",
       "    </tr>\n",
       "  </tbody>\n",
       "</table>\n",
       "</div>"
      ],
      "text/plain": [
       "   User ID                email  age\n",
       "0        1    zhairyes0@epa.gov   20\n",
       "1        2  dminihan1@cam.ac.uk   23\n",
       "2        3     ykopps2@live.com   68"
      ]
     },
     "execution_count": 12,
     "metadata": {},
     "output_type": "execute_result"
    }
   ],
   "source": [
    "users.head(3)"
   ]
  },
  {
   "cell_type": "code",
   "execution_count": 13,
   "id": "2fc250af-3428-4435-b8c1-87139a1a30fb",
   "metadata": {},
   "outputs": [],
   "source": [
    "ratings = pd.read_csv('../Resources/user_ratings.csv')"
   ]
  },
  {
   "cell_type": "code",
   "execution_count": 14,
   "id": "c017eba8-8376-403e-8225-864aa0c3503f",
   "metadata": {},
   "outputs": [
    {
     "data": {
      "text/html": [
       "<div>\n",
       "<style scoped>\n",
       "    .dataframe tbody tr th:only-of-type {\n",
       "        vertical-align: middle;\n",
       "    }\n",
       "\n",
       "    .dataframe tbody tr th {\n",
       "        vertical-align: top;\n",
       "    }\n",
       "\n",
       "    .dataframe thead th {\n",
       "        text-align: right;\n",
       "    }\n",
       "</style>\n",
       "<table border=\"1\" class=\"dataframe\">\n",
       "  <thead>\n",
       "    <tr style=\"text-align: right;\">\n",
       "      <th></th>\n",
       "      <th>User ID</th>\n",
       "      <th>Game ID</th>\n",
       "      <th>Review Score</th>\n",
       "    </tr>\n",
       "  </thead>\n",
       "  <tbody>\n",
       "    <tr>\n",
       "      <th>0</th>\n",
       "      <td>321</td>\n",
       "      <td>169419</td>\n",
       "      <td>7</td>\n",
       "    </tr>\n",
       "    <tr>\n",
       "      <th>1</th>\n",
       "      <td>971</td>\n",
       "      <td>315015</td>\n",
       "      <td>0</td>\n",
       "    </tr>\n",
       "    <tr>\n",
       "      <th>2</th>\n",
       "      <td>311</td>\n",
       "      <td>384685</td>\n",
       "      <td>4</td>\n",
       "    </tr>\n",
       "  </tbody>\n",
       "</table>\n",
       "</div>"
      ],
      "text/plain": [
       "   User ID  Game ID  Review Score\n",
       "0      321   169419             7\n",
       "1      971   315015             0\n",
       "2      311   384685             4"
      ]
     },
     "execution_count": 14,
     "metadata": {},
     "output_type": "execute_result"
    }
   ],
   "source": [
    "ratings.head(3)"
   ]
  },
  {
   "cell_type": "code",
   "execution_count": 15,
   "id": "09207dae-5e17-473a-842d-68e0188c1e0b",
   "metadata": {},
   "outputs": [],
   "source": [
    "games.rename(columns={\n",
    "    \"id\":\"Game ID\"\n",
    "}, inplace=True)"
   ]
  },
  {
   "cell_type": "code",
   "execution_count": 16,
   "id": "62fd9957-0bd7-450f-ad4b-f2b17b8af09a",
   "metadata": {},
   "outputs": [
    {
     "data": {
      "text/html": [
       "<div>\n",
       "<style scoped>\n",
       "    .dataframe tbody tr th:only-of-type {\n",
       "        vertical-align: middle;\n",
       "    }\n",
       "\n",
       "    .dataframe tbody tr th {\n",
       "        vertical-align: top;\n",
       "    }\n",
       "\n",
       "    .dataframe thead th {\n",
       "        text-align: right;\n",
       "    }\n",
       "</style>\n",
       "<table border=\"1\" class=\"dataframe\">\n",
       "  <thead>\n",
       "    <tr style=\"text-align: right;\">\n",
       "      <th></th>\n",
       "      <th>Game ID</th>\n",
       "      <th>name</th>\n",
       "      <th>released</th>\n",
       "      <th>developers</th>\n",
       "      <th>publishers</th>\n",
       "    </tr>\n",
       "  </thead>\n",
       "  <tbody>\n",
       "    <tr>\n",
       "      <th>0</th>\n",
       "      <td>1</td>\n",
       "      <td>D/Generation HD</td>\n",
       "      <td>2015-10-23</td>\n",
       "      <td>West Coast Software</td>\n",
       "      <td>West Coast Software</td>\n",
       "    </tr>\n",
       "    <tr>\n",
       "      <th>1</th>\n",
       "      <td>10</td>\n",
       "      <td>G Prime Into The Rain</td>\n",
       "      <td>2016-01-06</td>\n",
       "      <td>Soma Games</td>\n",
       "      <td>Immanitas Entertainment||Code-Monkeys</td>\n",
       "    </tr>\n",
       "    <tr>\n",
       "      <th>2</th>\n",
       "      <td>100</td>\n",
       "      <td>Land Sliders</td>\n",
       "      <td>2015-09-24</td>\n",
       "      <td>Prettygreat Pty</td>\n",
       "      <td>Prettygreat Pty</td>\n",
       "    </tr>\n",
       "  </tbody>\n",
       "</table>\n",
       "</div>"
      ],
      "text/plain": [
       "   Game ID                   name    released           developers  \\\n",
       "0        1        D/Generation HD  2015-10-23  West Coast Software   \n",
       "1       10  G Prime Into The Rain  2016-01-06           Soma Games   \n",
       "2      100           Land Sliders  2015-09-24      Prettygreat Pty   \n",
       "\n",
       "                              publishers  \n",
       "0                    West Coast Software  \n",
       "1  Immanitas Entertainment||Code-Monkeys  \n",
       "2                        Prettygreat Pty  "
      ]
     },
     "execution_count": 16,
     "metadata": {},
     "output_type": "execute_result"
    }
   ],
   "source": [
    "games.head(3)"
   ]
  },
  {
   "cell_type": "code",
   "execution_count": 17,
   "id": "1d9a6715-a83c-431b-8efa-8a5d8246bd1a",
   "metadata": {},
   "outputs": [
    {
     "data": {
      "text/plain": [
       "(979, 3)"
      ]
     },
     "execution_count": 17,
     "metadata": {},
     "output_type": "execute_result"
    }
   ],
   "source": [
    "ratings.shape"
   ]
  },
  {
   "cell_type": "code",
   "execution_count": 23,
   "id": "172a6928-4a46-403a-9157-7d29ff1d22ea",
   "metadata": {},
   "outputs": [
    {
     "data": {
      "text/plain": [
       "User ID\n",
       "842    5\n",
       "316    5\n",
       "707    4\n",
       "962    4\n",
       "835    4\n",
       "      ..\n",
       "515    1\n",
       "779    1\n",
       "867    1\n",
       "801    1\n",
       "201    1\n",
       "Name: count, Length: 630, dtype: int64"
      ]
     },
     "execution_count": 23,
     "metadata": {},
     "output_type": "execute_result"
    }
   ],
   "source": [
    "ratings[\"User ID\"].value_counts()"
   ]
  },
  {
   "cell_type": "code",
   "execution_count": 24,
   "id": "02d42787-7bee-4b3c-ae3c-e4ffb19b5d58",
   "metadata": {},
   "outputs": [
    {
     "data": {
      "text/plain": [
       "(630,)"
      ]
     },
     "execution_count": 24,
     "metadata": {},
     "output_type": "execute_result"
    }
   ],
   "source": [
    "ratings['User ID'].unique().shape"
   ]
  },
  {
   "cell_type": "code",
   "execution_count": 25,
   "id": "8d6a1272-7963-476f-836b-17c0047b4272",
   "metadata": {},
   "outputs": [
    {
     "data": {
      "text/plain": [
       "User ID\n",
       "842     True\n",
       "316     True\n",
       "707     True\n",
       "962     True\n",
       "835     True\n",
       "       ...  \n",
       "515    False\n",
       "779    False\n",
       "867    False\n",
       "801    False\n",
       "201    False\n",
       "Name: count, Length: 630, dtype: bool"
      ]
     },
     "execution_count": 25,
     "metadata": {},
     "output_type": "execute_result"
    }
   ],
   "source": [
    "x = ratings[\"User ID\"].value_counts() > 1\n",
    "x"
   ]
  },
  {
   "cell_type": "code",
   "execution_count": 26,
   "id": "da796f38-e117-49d0-86d5-6f2207e43a29",
   "metadata": {},
   "outputs": [
    {
     "data": {
      "text/plain": [
       "(262,)"
      ]
     },
     "execution_count": 26,
     "metadata": {},
     "output_type": "execute_result"
    }
   ],
   "source": [
    "x[x].shape"
   ]
  },
  {
   "cell_type": "code",
   "execution_count": 27,
   "id": "1686b7a6-737b-4753-b88d-a2146ede0069",
   "metadata": {},
   "outputs": [
    {
     "data": {
      "text/plain": [
       "Index([842, 316, 707, 962, 835, 531, 186, 924, 512,  40,\n",
       "       ...\n",
       "       971, 311, 907, 711, 603,  87, 601, 339, 172, 116],\n",
       "      dtype='int64', name='User ID', length=262)"
      ]
     },
     "execution_count": 27,
     "metadata": {},
     "output_type": "execute_result"
    }
   ],
   "source": [
    "y = x[x].index\n",
    "y"
   ]
  },
  {
   "cell_type": "code",
   "execution_count": 29,
   "id": "5ecea1ca-ae70-43c3-b412-0e6b440ee023",
   "metadata": {},
   "outputs": [
    {
     "data": {
      "text/html": [
       "<div>\n",
       "<style scoped>\n",
       "    .dataframe tbody tr th:only-of-type {\n",
       "        vertical-align: middle;\n",
       "    }\n",
       "\n",
       "    .dataframe tbody tr th {\n",
       "        vertical-align: top;\n",
       "    }\n",
       "\n",
       "    .dataframe thead th {\n",
       "        text-align: right;\n",
       "    }\n",
       "</style>\n",
       "<table border=\"1\" class=\"dataframe\">\n",
       "  <thead>\n",
       "    <tr style=\"text-align: right;\">\n",
       "      <th></th>\n",
       "      <th>User ID</th>\n",
       "      <th>Game ID</th>\n",
       "      <th>Review Score</th>\n",
       "    </tr>\n",
       "  </thead>\n",
       "  <tbody>\n",
       "    <tr>\n",
       "      <th>0</th>\n",
       "      <td>321</td>\n",
       "      <td>169419</td>\n",
       "      <td>7</td>\n",
       "    </tr>\n",
       "    <tr>\n",
       "      <th>1</th>\n",
       "      <td>971</td>\n",
       "      <td>315015</td>\n",
       "      <td>0</td>\n",
       "    </tr>\n",
       "    <tr>\n",
       "      <th>2</th>\n",
       "      <td>311</td>\n",
       "      <td>384685</td>\n",
       "      <td>4</td>\n",
       "    </tr>\n",
       "    <tr>\n",
       "      <th>3</th>\n",
       "      <td>907</td>\n",
       "      <td>235784</td>\n",
       "      <td>0</td>\n",
       "    </tr>\n",
       "    <tr>\n",
       "      <th>4</th>\n",
       "      <td>711</td>\n",
       "      <td>433699</td>\n",
       "      <td>0</td>\n",
       "    </tr>\n",
       "    <tr>\n",
       "      <th>...</th>\n",
       "      <td>...</td>\n",
       "      <td>...</td>\n",
       "      <td>...</td>\n",
       "    </tr>\n",
       "    <tr>\n",
       "      <th>971</th>\n",
       "      <td>755</td>\n",
       "      <td>82248</td>\n",
       "      <td>9</td>\n",
       "    </tr>\n",
       "    <tr>\n",
       "      <th>972</th>\n",
       "      <td>531</td>\n",
       "      <td>371312</td>\n",
       "      <td>0</td>\n",
       "    </tr>\n",
       "    <tr>\n",
       "      <th>974</th>\n",
       "      <td>803</td>\n",
       "      <td>256644</td>\n",
       "      <td>0</td>\n",
       "    </tr>\n",
       "    <tr>\n",
       "      <th>977</th>\n",
       "      <td>548</td>\n",
       "      <td>57060</td>\n",
       "      <td>0</td>\n",
       "    </tr>\n",
       "    <tr>\n",
       "      <th>978</th>\n",
       "      <td>274</td>\n",
       "      <td>240456</td>\n",
       "      <td>0</td>\n",
       "    </tr>\n",
       "  </tbody>\n",
       "</table>\n",
       "<p>611 rows × 3 columns</p>\n",
       "</div>"
      ],
      "text/plain": [
       "     User ID  Game ID  Review Score\n",
       "0        321   169419             7\n",
       "1        971   315015             0\n",
       "2        311   384685             4\n",
       "3        907   235784             0\n",
       "4        711   433699             0\n",
       "..       ...      ...           ...\n",
       "971      755    82248             9\n",
       "972      531   371312             0\n",
       "974      803   256644             0\n",
       "977      548    57060             0\n",
       "978      274   240456             0\n",
       "\n",
       "[611 rows x 3 columns]"
      ]
     },
     "execution_count": 29,
     "metadata": {},
     "output_type": "execute_result"
    }
   ],
   "source": [
    "ratings[ratings[\"User ID\"].isin(y)]"
   ]
  },
  {
   "cell_type": "code",
   "execution_count": 30,
   "id": "4850a1ab-0b28-456a-93a4-2588ba280e2c",
   "metadata": {},
   "outputs": [
    {
     "data": {
      "text/html": [
       "<div>\n",
       "<style scoped>\n",
       "    .dataframe tbody tr th:only-of-type {\n",
       "        vertical-align: middle;\n",
       "    }\n",
       "\n",
       "    .dataframe tbody tr th {\n",
       "        vertical-align: top;\n",
       "    }\n",
       "\n",
       "    .dataframe thead th {\n",
       "        text-align: right;\n",
       "    }\n",
       "</style>\n",
       "<table border=\"1\" class=\"dataframe\">\n",
       "  <thead>\n",
       "    <tr style=\"text-align: right;\">\n",
       "      <th></th>\n",
       "      <th>User ID</th>\n",
       "      <th>Game ID</th>\n",
       "      <th>Review Score</th>\n",
       "    </tr>\n",
       "  </thead>\n",
       "  <tbody>\n",
       "    <tr>\n",
       "      <th>0</th>\n",
       "      <td>321</td>\n",
       "      <td>169419</td>\n",
       "      <td>7</td>\n",
       "    </tr>\n",
       "    <tr>\n",
       "      <th>1</th>\n",
       "      <td>971</td>\n",
       "      <td>315015</td>\n",
       "      <td>0</td>\n",
       "    </tr>\n",
       "    <tr>\n",
       "      <th>2</th>\n",
       "      <td>311</td>\n",
       "      <td>384685</td>\n",
       "      <td>4</td>\n",
       "    </tr>\n",
       "    <tr>\n",
       "      <th>3</th>\n",
       "      <td>907</td>\n",
       "      <td>235784</td>\n",
       "      <td>0</td>\n",
       "    </tr>\n",
       "    <tr>\n",
       "      <th>4</th>\n",
       "      <td>711</td>\n",
       "      <td>433699</td>\n",
       "      <td>0</td>\n",
       "    </tr>\n",
       "  </tbody>\n",
       "</table>\n",
       "</div>"
      ],
      "text/plain": [
       "   User ID  Game ID  Review Score\n",
       "0      321   169419             7\n",
       "1      971   315015             0\n",
       "2      311   384685             4\n",
       "3      907   235784             0\n",
       "4      711   433699             0"
      ]
     },
     "execution_count": 30,
     "metadata": {},
     "output_type": "execute_result"
    }
   ],
   "source": [
    "ratings.head()"
   ]
  },
  {
   "cell_type": "code",
   "execution_count": 31,
   "id": "f8514cfe-9514-461b-a62d-6ab6700c0a7d",
   "metadata": {},
   "outputs": [
    {
     "data": {
      "text/plain": [
       "(979, 3)"
      ]
     },
     "execution_count": 31,
     "metadata": {},
     "output_type": "execute_result"
    }
   ],
   "source": [
    "ratings.shape"
   ]
  },
  {
   "cell_type": "code",
   "execution_count": 32,
   "id": "bcfd5c4c-5652-4f74-be5c-b07f6a043713",
   "metadata": {},
   "outputs": [],
   "source": [
    "ratings_games = ratings.merge(games, on = \"Game ID\")"
   ]
  },
  {
   "cell_type": "code",
   "execution_count": 33,
   "id": "6d1a9fce-2cb4-4ee0-9661-f00a69af58f1",
   "metadata": {},
   "outputs": [
    {
     "data": {
      "text/html": [
       "<div>\n",
       "<style scoped>\n",
       "    .dataframe tbody tr th:only-of-type {\n",
       "        vertical-align: middle;\n",
       "    }\n",
       "\n",
       "    .dataframe tbody tr th {\n",
       "        vertical-align: top;\n",
       "    }\n",
       "\n",
       "    .dataframe thead th {\n",
       "        text-align: right;\n",
       "    }\n",
       "</style>\n",
       "<table border=\"1\" class=\"dataframe\">\n",
       "  <thead>\n",
       "    <tr style=\"text-align: right;\">\n",
       "      <th></th>\n",
       "      <th>User ID</th>\n",
       "      <th>Game ID</th>\n",
       "      <th>Review Score</th>\n",
       "      <th>name</th>\n",
       "      <th>released</th>\n",
       "      <th>developers</th>\n",
       "      <th>publishers</th>\n",
       "    </tr>\n",
       "  </thead>\n",
       "  <tbody>\n",
       "    <tr>\n",
       "      <th>0</th>\n",
       "      <td>971</td>\n",
       "      <td>315015</td>\n",
       "      <td>0</td>\n",
       "      <td>Fluffensnuff</td>\n",
       "      <td>2019-04-30</td>\n",
       "      <td>bippinbits</td>\n",
       "      <td>NaN</td>\n",
       "    </tr>\n",
       "    <tr>\n",
       "      <th>1</th>\n",
       "      <td>311</td>\n",
       "      <td>384685</td>\n",
       "      <td>4</td>\n",
       "      <td>Mermaid Games - Makeover and Salon Game</td>\n",
       "      <td>2017-08-21</td>\n",
       "      <td>Armored Techno Solution</td>\n",
       "      <td>Armored Techno Solution</td>\n",
       "    </tr>\n",
       "    <tr>\n",
       "      <th>2</th>\n",
       "      <td>907</td>\n",
       "      <td>235784</td>\n",
       "      <td>0</td>\n",
       "      <td>三國志曹操傳－逐鹿中原</td>\n",
       "      <td>2017-08-04</td>\n",
       "      <td>zhang weibin</td>\n",
       "      <td>zhang weibin</td>\n",
       "    </tr>\n",
       "    <tr>\n",
       "      <th>3</th>\n",
       "      <td>711</td>\n",
       "      <td>433699</td>\n",
       "      <td>0</td>\n",
       "      <td>Fading Ember</td>\n",
       "      <td>2020-04-21</td>\n",
       "      <td>michaell308</td>\n",
       "      <td>NaN</td>\n",
       "    </tr>\n",
       "    <tr>\n",
       "      <th>4</th>\n",
       "      <td>23</td>\n",
       "      <td>217375</td>\n",
       "      <td>0</td>\n",
       "      <td>Real Monster Truck Driving</td>\n",
       "      <td>2017-11-07</td>\n",
       "      <td>BUI THI THUY DUNG</td>\n",
       "      <td>BUI THI THUY DUNG</td>\n",
       "    </tr>\n",
       "  </tbody>\n",
       "</table>\n",
       "</div>"
      ],
      "text/plain": [
       "   User ID  Game ID  Review Score                                     name  \\\n",
       "0      971   315015             0                             Fluffensnuff   \n",
       "1      311   384685             4  Mermaid Games - Makeover and Salon Game   \n",
       "2      907   235784             0                              三國志曹操傳－逐鹿中原   \n",
       "3      711   433699             0                             Fading Ember   \n",
       "4       23   217375             0               Real Monster Truck Driving   \n",
       "\n",
       "     released               developers               publishers  \n",
       "0  2019-04-30               bippinbits                      NaN  \n",
       "1  2017-08-21  Armored Techno Solution  Armored Techno Solution  \n",
       "2  2017-08-04             zhang weibin             zhang weibin  \n",
       "3  2020-04-21              michaell308                      NaN  \n",
       "4  2017-11-07        BUI THI THUY DUNG        BUI THI THUY DUNG  "
      ]
     },
     "execution_count": 33,
     "metadata": {},
     "output_type": "execute_result"
    }
   ],
   "source": [
    "ratings_games.head()"
   ]
  },
  {
   "cell_type": "code",
   "execution_count": 34,
   "id": "72c9755c-73d7-44df-8ee7-ec049b499e7a",
   "metadata": {},
   "outputs": [
    {
     "data": {
      "text/plain": [
       "(873, 7)"
      ]
     },
     "execution_count": 34,
     "metadata": {},
     "output_type": "execute_result"
    }
   ],
   "source": [
    "ratings_games.shape"
   ]
  },
  {
   "cell_type": "code",
   "execution_count": 35,
   "id": "f69fbc1c-1413-40b1-94da-c191c3b10315",
   "metadata": {},
   "outputs": [],
   "source": [
    "number_of_ratings = ratings_games.groupby(\"name\")[\"Review Score\"].count().reset_index()"
   ]
  },
  {
   "cell_type": "code",
   "execution_count": 37,
   "id": "503dd6c5-c95a-470a-bdb0-5f6e44113ddf",
   "metadata": {},
   "outputs": [
    {
     "data": {
      "text/html": [
       "<div>\n",
       "<style scoped>\n",
       "    .dataframe tbody tr th:only-of-type {\n",
       "        vertical-align: middle;\n",
       "    }\n",
       "\n",
       "    .dataframe tbody tr th {\n",
       "        vertical-align: top;\n",
       "    }\n",
       "\n",
       "    .dataframe thead th {\n",
       "        text-align: right;\n",
       "    }\n",
       "</style>\n",
       "<table border=\"1\" class=\"dataframe\">\n",
       "  <thead>\n",
       "    <tr style=\"text-align: right;\">\n",
       "      <th></th>\n",
       "      <th>name</th>\n",
       "      <th>Review Score</th>\n",
       "    </tr>\n",
       "  </thead>\n",
       "  <tbody>\n",
       "    <tr>\n",
       "      <th>0</th>\n",
       "      <td>\"Bounce Blast\" Construct 3 Template</td>\n",
       "      <td>1</td>\n",
       "    </tr>\n",
       "    <tr>\n",
       "      <th>1</th>\n",
       "      <td>\"Optical illusion\"</td>\n",
       "      <td>1</td>\n",
       "    </tr>\n",
       "    <tr>\n",
       "      <th>2</th>\n",
       "      <td>\"Revenge Of Heroes\"</td>\n",
       "      <td>1</td>\n",
       "    </tr>\n",
       "    <tr>\n",
       "      <th>3</th>\n",
       "      <td>/reroll</td>\n",
       "      <td>1</td>\n",
       "    </tr>\n",
       "    <tr>\n",
       "      <th>4</th>\n",
       "      <td>10000000</td>\n",
       "      <td>1</td>\n",
       "    </tr>\n",
       "  </tbody>\n",
       "</table>\n",
       "</div>"
      ],
      "text/plain": [
       "                                  name  Review Score\n",
       "0  \"Bounce Blast\" Construct 3 Template             1\n",
       "1                   \"Optical illusion\"             1\n",
       "2                  \"Revenge Of Heroes\"             1\n",
       "3                              /reroll             1\n",
       "4                             10000000             1"
      ]
     },
     "execution_count": 37,
     "metadata": {},
     "output_type": "execute_result"
    }
   ],
   "source": [
    "number_of_ratings.head()\n",
    "#how many review scores does this game name have?"
   ]
  },
  {
   "cell_type": "code",
   "execution_count": 38,
   "id": "ec56a92b-c9a0-458c-9e19-406ba14fc44e",
   "metadata": {},
   "outputs": [],
   "source": [
    "number_of_ratings.rename(columns={\"Review Score\":\"number of ratings\"}, inplace=True)"
   ]
  },
  {
   "cell_type": "code",
   "execution_count": 39,
   "id": "65f0da1e-17af-49cc-9700-9011ae52f96d",
   "metadata": {},
   "outputs": [
    {
     "data": {
      "text/html": [
       "<div>\n",
       "<style scoped>\n",
       "    .dataframe tbody tr th:only-of-type {\n",
       "        vertical-align: middle;\n",
       "    }\n",
       "\n",
       "    .dataframe tbody tr th {\n",
       "        vertical-align: top;\n",
       "    }\n",
       "\n",
       "    .dataframe thead th {\n",
       "        text-align: right;\n",
       "    }\n",
       "</style>\n",
       "<table border=\"1\" class=\"dataframe\">\n",
       "  <thead>\n",
       "    <tr style=\"text-align: right;\">\n",
       "      <th></th>\n",
       "      <th>name</th>\n",
       "      <th>number of ratings</th>\n",
       "    </tr>\n",
       "  </thead>\n",
       "  <tbody>\n",
       "    <tr>\n",
       "      <th>0</th>\n",
       "      <td>\"Bounce Blast\" Construct 3 Template</td>\n",
       "      <td>1</td>\n",
       "    </tr>\n",
       "    <tr>\n",
       "      <th>1</th>\n",
       "      <td>\"Optical illusion\"</td>\n",
       "      <td>1</td>\n",
       "    </tr>\n",
       "    <tr>\n",
       "      <th>2</th>\n",
       "      <td>\"Revenge Of Heroes\"</td>\n",
       "      <td>1</td>\n",
       "    </tr>\n",
       "    <tr>\n",
       "      <th>3</th>\n",
       "      <td>/reroll</td>\n",
       "      <td>1</td>\n",
       "    </tr>\n",
       "    <tr>\n",
       "      <th>4</th>\n",
       "      <td>10000000</td>\n",
       "      <td>1</td>\n",
       "    </tr>\n",
       "  </tbody>\n",
       "</table>\n",
       "</div>"
      ],
      "text/plain": [
       "                                  name  number of ratings\n",
       "0  \"Bounce Blast\" Construct 3 Template                  1\n",
       "1                   \"Optical illusion\"                  1\n",
       "2                  \"Revenge Of Heroes\"                  1\n",
       "3                              /reroll                  1\n",
       "4                             10000000                  1"
      ]
     },
     "execution_count": 39,
     "metadata": {},
     "output_type": "execute_result"
    }
   ],
   "source": [
    "number_of_ratings.head()"
   ]
  },
  {
   "cell_type": "code",
   "execution_count": 40,
   "id": "5e5f57a7-b560-4a68-a298-a6646adde1eb",
   "metadata": {},
   "outputs": [],
   "source": [
    "finished_set = ratings_games.merge(number_of_ratings, on=\"name\")"
   ]
  },
  {
   "cell_type": "code",
   "execution_count": 41,
   "id": "7ed9b8f7-f0d0-4316-9aec-89b9f56a5ac5",
   "metadata": {},
   "outputs": [
    {
     "data": {
      "text/html": [
       "<div>\n",
       "<style scoped>\n",
       "    .dataframe tbody tr th:only-of-type {\n",
       "        vertical-align: middle;\n",
       "    }\n",
       "\n",
       "    .dataframe tbody tr th {\n",
       "        vertical-align: top;\n",
       "    }\n",
       "\n",
       "    .dataframe thead th {\n",
       "        text-align: right;\n",
       "    }\n",
       "</style>\n",
       "<table border=\"1\" class=\"dataframe\">\n",
       "  <thead>\n",
       "    <tr style=\"text-align: right;\">\n",
       "      <th></th>\n",
       "      <th>User ID</th>\n",
       "      <th>Game ID</th>\n",
       "      <th>Review Score</th>\n",
       "      <th>name</th>\n",
       "      <th>released</th>\n",
       "      <th>developers</th>\n",
       "      <th>publishers</th>\n",
       "      <th>number of ratings</th>\n",
       "    </tr>\n",
       "  </thead>\n",
       "  <tbody>\n",
       "    <tr>\n",
       "      <th>0</th>\n",
       "      <td>971</td>\n",
       "      <td>315015</td>\n",
       "      <td>0</td>\n",
       "      <td>Fluffensnuff</td>\n",
       "      <td>2019-04-30</td>\n",
       "      <td>bippinbits</td>\n",
       "      <td>NaN</td>\n",
       "      <td>1</td>\n",
       "    </tr>\n",
       "    <tr>\n",
       "      <th>1</th>\n",
       "      <td>311</td>\n",
       "      <td>384685</td>\n",
       "      <td>4</td>\n",
       "      <td>Mermaid Games - Makeover and Salon Game</td>\n",
       "      <td>2017-08-21</td>\n",
       "      <td>Armored Techno Solution</td>\n",
       "      <td>Armored Techno Solution</td>\n",
       "      <td>1</td>\n",
       "    </tr>\n",
       "    <tr>\n",
       "      <th>2</th>\n",
       "      <td>907</td>\n",
       "      <td>235784</td>\n",
       "      <td>0</td>\n",
       "      <td>三國志曹操傳－逐鹿中原</td>\n",
       "      <td>2017-08-04</td>\n",
       "      <td>zhang weibin</td>\n",
       "      <td>zhang weibin</td>\n",
       "      <td>1</td>\n",
       "    </tr>\n",
       "    <tr>\n",
       "      <th>3</th>\n",
       "      <td>711</td>\n",
       "      <td>433699</td>\n",
       "      <td>0</td>\n",
       "      <td>Fading Ember</td>\n",
       "      <td>2020-04-21</td>\n",
       "      <td>michaell308</td>\n",
       "      <td>NaN</td>\n",
       "      <td>1</td>\n",
       "    </tr>\n",
       "    <tr>\n",
       "      <th>4</th>\n",
       "      <td>23</td>\n",
       "      <td>217375</td>\n",
       "      <td>0</td>\n",
       "      <td>Real Monster Truck Driving</td>\n",
       "      <td>2017-11-07</td>\n",
       "      <td>BUI THI THUY DUNG</td>\n",
       "      <td>BUI THI THUY DUNG</td>\n",
       "      <td>1</td>\n",
       "    </tr>\n",
       "  </tbody>\n",
       "</table>\n",
       "</div>"
      ],
      "text/plain": [
       "   User ID  Game ID  Review Score                                     name  \\\n",
       "0      971   315015             0                             Fluffensnuff   \n",
       "1      311   384685             4  Mermaid Games - Makeover and Salon Game   \n",
       "2      907   235784             0                              三國志曹操傳－逐鹿中原   \n",
       "3      711   433699             0                             Fading Ember   \n",
       "4       23   217375             0               Real Monster Truck Driving   \n",
       "\n",
       "     released               developers               publishers  \\\n",
       "0  2019-04-30               bippinbits                      NaN   \n",
       "1  2017-08-21  Armored Techno Solution  Armored Techno Solution   \n",
       "2  2017-08-04             zhang weibin             zhang weibin   \n",
       "3  2020-04-21              michaell308                      NaN   \n",
       "4  2017-11-07        BUI THI THUY DUNG        BUI THI THUY DUNG   \n",
       "\n",
       "   number of ratings  \n",
       "0                  1  \n",
       "1                  1  \n",
       "2                  1  \n",
       "3                  1  \n",
       "4                  1  "
      ]
     },
     "execution_count": 41,
     "metadata": {},
     "output_type": "execute_result"
    }
   ],
   "source": [
    "finished_set.head()"
   ]
  },
  {
   "cell_type": "code",
   "execution_count": 44,
   "id": "67472c59-14b8-4a04-9ca1-bcf66a24cd79",
   "metadata": {},
   "outputs": [
    {
     "data": {
      "text/html": [
       "<div>\n",
       "<style scoped>\n",
       "    .dataframe tbody tr th:only-of-type {\n",
       "        vertical-align: middle;\n",
       "    }\n",
       "\n",
       "    .dataframe tbody tr th {\n",
       "        vertical-align: top;\n",
       "    }\n",
       "\n",
       "    .dataframe thead th {\n",
       "        text-align: right;\n",
       "    }\n",
       "</style>\n",
       "<table border=\"1\" class=\"dataframe\">\n",
       "  <thead>\n",
       "    <tr style=\"text-align: right;\">\n",
       "      <th></th>\n",
       "      <th>User ID</th>\n",
       "      <th>Game ID</th>\n",
       "      <th>Review Score</th>\n",
       "      <th>name</th>\n",
       "      <th>released</th>\n",
       "      <th>developers</th>\n",
       "      <th>publishers</th>\n",
       "      <th>number of ratings</th>\n",
       "    </tr>\n",
       "  </thead>\n",
       "  <tbody>\n",
       "    <tr>\n",
       "      <th>59</th>\n",
       "      <td>430</td>\n",
       "      <td>434895</td>\n",
       "      <td>0</td>\n",
       "      <td>Desert Escape (rwoproduction)</td>\n",
       "      <td>2020-04-20</td>\n",
       "      <td>rwoproduction</td>\n",
       "      <td>NaN</td>\n",
       "      <td>1</td>\n",
       "    </tr>\n",
       "    <tr>\n",
       "      <th>255</th>\n",
       "      <td>371</td>\n",
       "      <td>8905</td>\n",
       "      <td>8</td>\n",
       "      <td>Maria the Witch</td>\n",
       "      <td>2014-10-15</td>\n",
       "      <td>Naps Team||Na.p.s. Team s.n.c.</td>\n",
       "      <td>Naps Team||Naps Team snc</td>\n",
       "      <td>1</td>\n",
       "    </tr>\n",
       "    <tr>\n",
       "      <th>520</th>\n",
       "      <td>7</td>\n",
       "      <td>235296</td>\n",
       "      <td>0</td>\n",
       "      <td>Color vs Blocks</td>\n",
       "      <td>2017-07-18</td>\n",
       "      <td>Dawson Walker</td>\n",
       "      <td>Dawson Walker</td>\n",
       "      <td>1</td>\n",
       "    </tr>\n",
       "    <tr>\n",
       "      <th>160</th>\n",
       "      <td>324</td>\n",
       "      <td>102638</td>\n",
       "      <td>0</td>\n",
       "      <td>Sunday</td>\n",
       "      <td>2016-04-19</td>\n",
       "      <td>Vile||EZBake Games</td>\n",
       "      <td>NaN</td>\n",
       "      <td>1</td>\n",
       "    </tr>\n",
       "    <tr>\n",
       "      <th>839</th>\n",
       "      <td>303</td>\n",
       "      <td>202747</td>\n",
       "      <td>0</td>\n",
       "      <td>Alien Bash</td>\n",
       "      <td>2018-04-01</td>\n",
       "      <td>Little Tinkers</td>\n",
       "      <td>NaN</td>\n",
       "      <td>1</td>\n",
       "    </tr>\n",
       "    <tr>\n",
       "      <th>843</th>\n",
       "      <td>566</td>\n",
       "      <td>259211</td>\n",
       "      <td>8</td>\n",
       "      <td>Celestial Vanguard</td>\n",
       "      <td>2018-10-28</td>\n",
       "      <td>UpsilonGames</td>\n",
       "      <td>NaN</td>\n",
       "      <td>1</td>\n",
       "    </tr>\n",
       "    <tr>\n",
       "      <th>466</th>\n",
       "      <td>640</td>\n",
       "      <td>179242</td>\n",
       "      <td>0</td>\n",
       "      <td>Another Forest In Paradise</td>\n",
       "      <td>2017-12-13</td>\n",
       "      <td>fmorgand</td>\n",
       "      <td>NaN</td>\n",
       "      <td>1</td>\n",
       "    </tr>\n",
       "    <tr>\n",
       "      <th>62</th>\n",
       "      <td>479</td>\n",
       "      <td>373014</td>\n",
       "      <td>0</td>\n",
       "      <td>Poligonal</td>\n",
       "      <td>2019-09-09</td>\n",
       "      <td>francologic</td>\n",
       "      <td>NaN</td>\n",
       "      <td>1</td>\n",
       "    </tr>\n",
       "    <tr>\n",
       "      <th>460</th>\n",
       "      <td>499</td>\n",
       "      <td>100995</td>\n",
       "      <td>0</td>\n",
       "      <td>sphinx of black quartz judge my vow</td>\n",
       "      <td>2017-01-23</td>\n",
       "      <td>shrunken studios</td>\n",
       "      <td>NaN</td>\n",
       "      <td>1</td>\n",
       "    </tr>\n",
       "    <tr>\n",
       "      <th>10</th>\n",
       "      <td>314</td>\n",
       "      <td>143014</td>\n",
       "      <td>3</td>\n",
       "      <td>Rocket Rumble</td>\n",
       "      <td>2015-04-12</td>\n",
       "      <td>Roberto Molvado</td>\n",
       "      <td>NaN</td>\n",
       "      <td>1</td>\n",
       "    </tr>\n",
       "  </tbody>\n",
       "</table>\n",
       "</div>"
      ],
      "text/plain": [
       "     User ID  Game ID  Review Score                                 name  \\\n",
       "59       430   434895             0        Desert Escape (rwoproduction)   \n",
       "255      371     8905             8                      Maria the Witch   \n",
       "520        7   235296             0                      Color vs Blocks   \n",
       "160      324   102638             0                               Sunday   \n",
       "839      303   202747             0                           Alien Bash   \n",
       "843      566   259211             8                   Celestial Vanguard   \n",
       "466      640   179242             0           Another Forest In Paradise   \n",
       "62       479   373014             0                            Poligonal   \n",
       "460      499   100995             0  sphinx of black quartz judge my vow   \n",
       "10       314   143014             3                        Rocket Rumble   \n",
       "\n",
       "       released                      developers                publishers  \\\n",
       "59   2020-04-20                   rwoproduction                       NaN   \n",
       "255  2014-10-15  Naps Team||Na.p.s. Team s.n.c.  Naps Team||Naps Team snc   \n",
       "520  2017-07-18                   Dawson Walker             Dawson Walker   \n",
       "160  2016-04-19              Vile||EZBake Games                       NaN   \n",
       "839  2018-04-01                  Little Tinkers                       NaN   \n",
       "843  2018-10-28                    UpsilonGames                       NaN   \n",
       "466  2017-12-13                        fmorgand                       NaN   \n",
       "62   2019-09-09                     francologic                       NaN   \n",
       "460  2017-01-23                shrunken studios                       NaN   \n",
       "10   2015-04-12                 Roberto Molvado                       NaN   \n",
       "\n",
       "     number of ratings  \n",
       "59                   1  \n",
       "255                  1  \n",
       "520                  1  \n",
       "160                  1  \n",
       "839                  1  \n",
       "843                  1  \n",
       "466                  1  \n",
       "62                   1  \n",
       "460                  1  \n",
       "10                   1  "
      ]
     },
     "execution_count": 44,
     "metadata": {},
     "output_type": "execute_result"
    }
   ],
   "source": [
    "finished_set.sample(10)"
   ]
  },
  {
   "cell_type": "code",
   "execution_count": 45,
   "id": "cfc4276e-a38d-49c6-bccb-909a58ad1296",
   "metadata": {},
   "outputs": [
    {
     "data": {
      "text/html": [
       "<div>\n",
       "<style scoped>\n",
       "    .dataframe tbody tr th:only-of-type {\n",
       "        vertical-align: middle;\n",
       "    }\n",
       "\n",
       "    .dataframe tbody tr th {\n",
       "        vertical-align: top;\n",
       "    }\n",
       "\n",
       "    .dataframe thead th {\n",
       "        text-align: right;\n",
       "    }\n",
       "</style>\n",
       "<table border=\"1\" class=\"dataframe\">\n",
       "  <thead>\n",
       "    <tr style=\"text-align: right;\">\n",
       "      <th></th>\n",
       "      <th>User ID</th>\n",
       "      <th>Game ID</th>\n",
       "      <th>Review Score</th>\n",
       "      <th>name</th>\n",
       "      <th>released</th>\n",
       "      <th>developers</th>\n",
       "      <th>publishers</th>\n",
       "      <th>number of ratings</th>\n",
       "    </tr>\n",
       "  </thead>\n",
       "  <tbody>\n",
       "    <tr>\n",
       "      <th>0</th>\n",
       "      <td>971</td>\n",
       "      <td>315015</td>\n",
       "      <td>0</td>\n",
       "      <td>Fluffensnuff</td>\n",
       "      <td>2019-04-30</td>\n",
       "      <td>bippinbits</td>\n",
       "      <td>NaN</td>\n",
       "      <td>1</td>\n",
       "    </tr>\n",
       "    <tr>\n",
       "      <th>1</th>\n",
       "      <td>311</td>\n",
       "      <td>384685</td>\n",
       "      <td>4</td>\n",
       "      <td>Mermaid Games - Makeover and Salon Game</td>\n",
       "      <td>2017-08-21</td>\n",
       "      <td>Armored Techno Solution</td>\n",
       "      <td>Armored Techno Solution</td>\n",
       "      <td>1</td>\n",
       "    </tr>\n",
       "    <tr>\n",
       "      <th>2</th>\n",
       "      <td>907</td>\n",
       "      <td>235784</td>\n",
       "      <td>0</td>\n",
       "      <td>三國志曹操傳－逐鹿中原</td>\n",
       "      <td>2017-08-04</td>\n",
       "      <td>zhang weibin</td>\n",
       "      <td>zhang weibin</td>\n",
       "      <td>1</td>\n",
       "    </tr>\n",
       "    <tr>\n",
       "      <th>3</th>\n",
       "      <td>711</td>\n",
       "      <td>433699</td>\n",
       "      <td>0</td>\n",
       "      <td>Fading Ember</td>\n",
       "      <td>2020-04-21</td>\n",
       "      <td>michaell308</td>\n",
       "      <td>NaN</td>\n",
       "      <td>1</td>\n",
       "    </tr>\n",
       "    <tr>\n",
       "      <th>4</th>\n",
       "      <td>23</td>\n",
       "      <td>217375</td>\n",
       "      <td>0</td>\n",
       "      <td>Real Monster Truck Driving</td>\n",
       "      <td>2017-11-07</td>\n",
       "      <td>BUI THI THUY DUNG</td>\n",
       "      <td>BUI THI THUY DUNG</td>\n",
       "      <td>1</td>\n",
       "    </tr>\n",
       "    <tr>\n",
       "      <th>...</th>\n",
       "      <td>...</td>\n",
       "      <td>...</td>\n",
       "      <td>...</td>\n",
       "      <td>...</td>\n",
       "      <td>...</td>\n",
       "      <td>...</td>\n",
       "      <td>...</td>\n",
       "      <td>...</td>\n",
       "    </tr>\n",
       "    <tr>\n",
       "      <th>868</th>\n",
       "      <td>803</td>\n",
       "      <td>256644</td>\n",
       "      <td>0</td>\n",
       "      <td>Pumpkin Villain</td>\n",
       "      <td>2018-10-21</td>\n",
       "      <td>simeon.platonov</td>\n",
       "      <td>NaN</td>\n",
       "      <td>1</td>\n",
       "    </tr>\n",
       "    <tr>\n",
       "      <th>869</th>\n",
       "      <td>527</td>\n",
       "      <td>188202</td>\n",
       "      <td>2</td>\n",
       "      <td>SpaceSurvivor (Frickin'Pancake)</td>\n",
       "      <td>2016-01-21</td>\n",
       "      <td>Frickin'Pancake</td>\n",
       "      <td>NaN</td>\n",
       "      <td>1</td>\n",
       "    </tr>\n",
       "    <tr>\n",
       "      <th>870</th>\n",
       "      <td>80</td>\n",
       "      <td>193243</td>\n",
       "      <td>9</td>\n",
       "      <td>LittleFlowerBigSky (PolarFox)</td>\n",
       "      <td>2015-12-15</td>\n",
       "      <td>PolarFox</td>\n",
       "      <td>NaN</td>\n",
       "      <td>1</td>\n",
       "    </tr>\n",
       "    <tr>\n",
       "      <th>871</th>\n",
       "      <td>548</td>\n",
       "      <td>57060</td>\n",
       "      <td>0</td>\n",
       "      <td>Fever Pitch Soccer</td>\n",
       "      <td>1995-01-01</td>\n",
       "      <td>U.S. Gold</td>\n",
       "      <td>Atari||U.S. Gold</td>\n",
       "      <td>1</td>\n",
       "    </tr>\n",
       "    <tr>\n",
       "      <th>872</th>\n",
       "      <td>274</td>\n",
       "      <td>240456</td>\n",
       "      <td>0</td>\n",
       "      <td>World of Wolf Clans</td>\n",
       "      <td>2017-08-05</td>\n",
       "      <td>Andrew Kudrin</td>\n",
       "      <td>Andrew Kudrin</td>\n",
       "      <td>1</td>\n",
       "    </tr>\n",
       "  </tbody>\n",
       "</table>\n",
       "<p>873 rows × 8 columns</p>\n",
       "</div>"
      ],
      "text/plain": [
       "     User ID  Game ID  Review Score                                     name  \\\n",
       "0        971   315015             0                             Fluffensnuff   \n",
       "1        311   384685             4  Mermaid Games - Makeover and Salon Game   \n",
       "2        907   235784             0                              三國志曹操傳－逐鹿中原   \n",
       "3        711   433699             0                             Fading Ember   \n",
       "4         23   217375             0               Real Monster Truck Driving   \n",
       "..       ...      ...           ...                                      ...   \n",
       "868      803   256644             0                          Pumpkin Villain   \n",
       "869      527   188202             2          SpaceSurvivor (Frickin'Pancake)   \n",
       "870       80   193243             9            LittleFlowerBigSky (PolarFox)   \n",
       "871      548    57060             0                       Fever Pitch Soccer   \n",
       "872      274   240456             0                      World of Wolf Clans   \n",
       "\n",
       "       released               developers               publishers  \\\n",
       "0    2019-04-30               bippinbits                      NaN   \n",
       "1    2017-08-21  Armored Techno Solution  Armored Techno Solution   \n",
       "2    2017-08-04             zhang weibin             zhang weibin   \n",
       "3    2020-04-21              michaell308                      NaN   \n",
       "4    2017-11-07        BUI THI THUY DUNG        BUI THI THUY DUNG   \n",
       "..          ...                      ...                      ...   \n",
       "868  2018-10-21          simeon.platonov                      NaN   \n",
       "869  2016-01-21          Frickin'Pancake                      NaN   \n",
       "870  2015-12-15                 PolarFox                      NaN   \n",
       "871  1995-01-01                U.S. Gold         Atari||U.S. Gold   \n",
       "872  2017-08-05            Andrew Kudrin            Andrew Kudrin   \n",
       "\n",
       "     number of ratings  \n",
       "0                    1  \n",
       "1                    1  \n",
       "2                    1  \n",
       "3                    1  \n",
       "4                    1  \n",
       "..                 ...  \n",
       "868                  1  \n",
       "869                  1  \n",
       "870                  1  \n",
       "871                  1  \n",
       "872                  1  \n",
       "\n",
       "[873 rows x 8 columns]"
      ]
     },
     "execution_count": 45,
     "metadata": {},
     "output_type": "execute_result"
    }
   ],
   "source": [
    "finished_set"
   ]
  },
  {
   "cell_type": "code",
   "execution_count": 46,
   "id": "969883cb-7e0f-4269-9bcc-bfea511f246c",
   "metadata": {},
   "outputs": [
    {
     "data": {
      "text/plain": [
       "(873, 8)"
      ]
     },
     "execution_count": 46,
     "metadata": {},
     "output_type": "execute_result"
    }
   ],
   "source": [
    "finished_set.shape"
   ]
  },
  {
   "cell_type": "code",
   "execution_count": null,
   "id": "6c1865c3-34ea-4b78-8795-b9cc7cf4c9da",
   "metadata": {},
   "outputs": [],
   "source": []
  }
 ],
 "metadata": {
  "kernelspec": {
   "display_name": "Python 3 (ipykernel)",
   "language": "python",
   "name": "python3"
  },
  "language_info": {
   "codemirror_mode": {
    "name": "ipython",
    "version": 3
   },
   "file_extension": ".py",
   "mimetype": "text/x-python",
   "name": "python",
   "nbconvert_exporter": "python",
   "pygments_lexer": "ipython3",
   "version": "3.12.8"
  }
 },
 "nbformat": 4,
 "nbformat_minor": 5
}
