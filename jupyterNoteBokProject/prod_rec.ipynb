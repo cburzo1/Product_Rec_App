{
 "cells": [
  {
   "cell_type": "code",
   "execution_count": 2,
   "id": "125623fd-ed93-4197-8069-74adb5867294",
   "metadata": {},
   "outputs": [],
   "source": [
    "import pandas as pd\n",
    "import numpy as np\n",
    "import matplotlib.pyplot as plt\n",
    "import seaborn as sns"
   ]
  },
  {
   "cell_type": "code",
   "execution_count": 18,
   "id": "9c105f89-a6c5-4fb2-a5b3-e8ef2081138f",
   "metadata": {},
   "outputs": [],
   "source": [
    "games = pd.read_csv('../Resources/game_info.csv')"
   ]
  },
  {
   "cell_type": "code",
   "execution_count": 19,
   "id": "6424e0d9-47e0-4a0c-b396-8388beced389",
   "metadata": {},
   "outputs": [
    {
     "data": {
      "text/html": [
       "<div>\n",
       "<style scoped>\n",
       "    .dataframe tbody tr th:only-of-type {\n",
       "        vertical-align: middle;\n",
       "    }\n",
       "\n",
       "    .dataframe tbody tr th {\n",
       "        vertical-align: top;\n",
       "    }\n",
       "\n",
       "    .dataframe thead th {\n",
       "        text-align: right;\n",
       "    }\n",
       "</style>\n",
       "<table border=\"1\" class=\"dataframe\">\n",
       "  <thead>\n",
       "    <tr style=\"text-align: right;\">\n",
       "      <th></th>\n",
       "      <th>id</th>\n",
       "      <th>slug</th>\n",
       "      <th>name</th>\n",
       "      <th>metacritic</th>\n",
       "      <th>released</th>\n",
       "      <th>tba</th>\n",
       "      <th>updated</th>\n",
       "      <th>website</th>\n",
       "      <th>rating</th>\n",
       "      <th>rating_top</th>\n",
       "      <th>...</th>\n",
       "      <th>developers</th>\n",
       "      <th>genres</th>\n",
       "      <th>publishers</th>\n",
       "      <th>esrb_rating</th>\n",
       "      <th>added_status_yet</th>\n",
       "      <th>added_status_owned</th>\n",
       "      <th>added_status_beaten</th>\n",
       "      <th>added_status_toplay</th>\n",
       "      <th>added_status_dropped</th>\n",
       "      <th>added_status_playing</th>\n",
       "    </tr>\n",
       "  </thead>\n",
       "  <tbody>\n",
       "    <tr>\n",
       "      <th>0</th>\n",
       "      <td>1</td>\n",
       "      <td>dgeneration-hd</td>\n",
       "      <td>D/Generation HD</td>\n",
       "      <td>NaN</td>\n",
       "      <td>2015-10-23</td>\n",
       "      <td>False</td>\n",
       "      <td>2019-09-17T11:58:57</td>\n",
       "      <td>http://dgeneration.net</td>\n",
       "      <td>0.0</td>\n",
       "      <td>0</td>\n",
       "      <td>...</td>\n",
       "      <td>West Coast Software</td>\n",
       "      <td>Adventure||Puzzle</td>\n",
       "      <td>West Coast Software</td>\n",
       "      <td>Everyone 10+</td>\n",
       "      <td>4</td>\n",
       "      <td>88</td>\n",
       "      <td>2</td>\n",
       "      <td>2</td>\n",
       "      <td>0</td>\n",
       "      <td>0</td>\n",
       "    </tr>\n",
       "    <tr>\n",
       "      <th>1</th>\n",
       "      <td>10</td>\n",
       "      <td>g-prime</td>\n",
       "      <td>G Prime Into The Rain</td>\n",
       "      <td>NaN</td>\n",
       "      <td>2016-01-06</td>\n",
       "      <td>False</td>\n",
       "      <td>2019-11-06T23:04:19</td>\n",
       "      <td>NaN</td>\n",
       "      <td>0.0</td>\n",
       "      <td>0</td>\n",
       "      <td>...</td>\n",
       "      <td>Soma Games</td>\n",
       "      <td>Simulation||Indie</td>\n",
       "      <td>Immanitas Entertainment||Code-Monkeys</td>\n",
       "      <td>Everyone</td>\n",
       "      <td>2</td>\n",
       "      <td>42</td>\n",
       "      <td>2</td>\n",
       "      <td>0</td>\n",
       "      <td>0</td>\n",
       "      <td>0</td>\n",
       "    </tr>\n",
       "  </tbody>\n",
       "</table>\n",
       "<p>2 rows × 27 columns</p>\n",
       "</div>"
      ],
      "text/plain": [
       "   id            slug                   name  metacritic    released    tba  \\\n",
       "0   1  dgeneration-hd        D/Generation HD         NaN  2015-10-23  False   \n",
       "1  10         g-prime  G Prime Into The Rain         NaN  2016-01-06  False   \n",
       "\n",
       "               updated                 website  rating  rating_top  ...  \\\n",
       "0  2019-09-17T11:58:57  http://dgeneration.net     0.0           0  ...   \n",
       "1  2019-11-06T23:04:19                     NaN     0.0           0  ...   \n",
       "\n",
       "            developers             genres  \\\n",
       "0  West Coast Software  Adventure||Puzzle   \n",
       "1           Soma Games  Simulation||Indie   \n",
       "\n",
       "                              publishers   esrb_rating  added_status_yet  \\\n",
       "0                    West Coast Software  Everyone 10+                 4   \n",
       "1  Immanitas Entertainment||Code-Monkeys      Everyone                 2   \n",
       "\n",
       "   added_status_owned added_status_beaten added_status_toplay  \\\n",
       "0                  88                   2                   2   \n",
       "1                  42                   2                   0   \n",
       "\n",
       "  added_status_dropped added_status_playing  \n",
       "0                    0                    0  \n",
       "1                    0                    0  \n",
       "\n",
       "[2 rows x 27 columns]"
      ]
     },
     "execution_count": 19,
     "metadata": {},
     "output_type": "execute_result"
    }
   ],
   "source": [
    "games.head(2)"
   ]
  },
  {
   "cell_type": "code",
   "execution_count": 20,
   "id": "46fa03ff-1ce4-4c08-9217-ba27c40d9450",
   "metadata": {},
   "outputs": [
    {
     "data": {
      "text/plain": [
       "(474417, 27)"
      ]
     },
     "execution_count": 20,
     "metadata": {},
     "output_type": "execute_result"
    }
   ],
   "source": [
    "games.shape"
   ]
  },
  {
   "cell_type": "code",
   "execution_count": 21,
   "id": "98c4e970-676f-4d0b-b7bb-63c17e8debb1",
   "metadata": {},
   "outputs": [
    {
     "data": {
      "text/plain": [
       "Index(['id', 'slug', 'name', 'metacritic', 'released', 'tba', 'updated',\n",
       "       'website', 'rating', 'rating_top', 'playtime', 'achievements_count',\n",
       "       'ratings_count', 'suggestions_count', 'game_series_count',\n",
       "       'reviews_count', 'platforms', 'developers', 'genres', 'publishers',\n",
       "       'esrb_rating', 'added_status_yet', 'added_status_owned',\n",
       "       'added_status_beaten', 'added_status_toplay', 'added_status_dropped',\n",
       "       'added_status_playing'],\n",
       "      dtype='object')"
      ]
     },
     "execution_count": 21,
     "metadata": {},
     "output_type": "execute_result"
    }
   ],
   "source": [
    "games.columns"
   ]
  },
  {
   "cell_type": "code",
   "execution_count": 22,
   "id": "c38522a6-8af1-48d4-b24e-7a725e13ac5b",
   "metadata": {},
   "outputs": [],
   "source": [
    "games = games[['id', 'name', 'released', 'developers','publishers']]"
   ]
  },
  {
   "cell_type": "code",
   "execution_count": 23,
   "id": "a8e18d57-12d9-41d0-89d5-9b3818a77986",
   "metadata": {},
   "outputs": [
    {
     "data": {
      "text/html": [
       "<div>\n",
       "<style scoped>\n",
       "    .dataframe tbody tr th:only-of-type {\n",
       "        vertical-align: middle;\n",
       "    }\n",
       "\n",
       "    .dataframe tbody tr th {\n",
       "        vertical-align: top;\n",
       "    }\n",
       "\n",
       "    .dataframe thead th {\n",
       "        text-align: right;\n",
       "    }\n",
       "</style>\n",
       "<table border=\"1\" class=\"dataframe\">\n",
       "  <thead>\n",
       "    <tr style=\"text-align: right;\">\n",
       "      <th></th>\n",
       "      <th>id</th>\n",
       "      <th>name</th>\n",
       "      <th>released</th>\n",
       "      <th>developers</th>\n",
       "      <th>publishers</th>\n",
       "    </tr>\n",
       "  </thead>\n",
       "  <tbody>\n",
       "    <tr>\n",
       "      <th>0</th>\n",
       "      <td>1</td>\n",
       "      <td>D/Generation HD</td>\n",
       "      <td>2015-10-23</td>\n",
       "      <td>West Coast Software</td>\n",
       "      <td>West Coast Software</td>\n",
       "    </tr>\n",
       "    <tr>\n",
       "      <th>1</th>\n",
       "      <td>10</td>\n",
       "      <td>G Prime Into The Rain</td>\n",
       "      <td>2016-01-06</td>\n",
       "      <td>Soma Games</td>\n",
       "      <td>Immanitas Entertainment||Code-Monkeys</td>\n",
       "    </tr>\n",
       "  </tbody>\n",
       "</table>\n",
       "</div>"
      ],
      "text/plain": [
       "   id                   name    released           developers  \\\n",
       "0   1        D/Generation HD  2015-10-23  West Coast Software   \n",
       "1  10  G Prime Into The Rain  2016-01-06           Soma Games   \n",
       "\n",
       "                              publishers  \n",
       "0                    West Coast Software  \n",
       "1  Immanitas Entertainment||Code-Monkeys  "
      ]
     },
     "execution_count": 23,
     "metadata": {},
     "output_type": "execute_result"
    }
   ],
   "source": [
    "games.head(2)"
   ]
  },
  {
   "cell_type": "code",
   "execution_count": 24,
   "id": "e7ec5bb4-9045-490e-ae3b-b57b94606aaa",
   "metadata": {},
   "outputs": [],
   "source": [
    "users = pd.read_csv('../Resources/user_info.csv')"
   ]
  },
  {
   "cell_type": "code",
   "execution_count": 25,
   "id": "a687d06b-72b0-4e60-a27e-4e0a8ceb9bbd",
   "metadata": {},
   "outputs": [
    {
     "data": {
      "text/plain": [
       "(980, 6)"
      ]
     },
     "execution_count": 25,
     "metadata": {},
     "output_type": "execute_result"
    }
   ],
   "source": [
    "users.shape"
   ]
  },
  {
   "cell_type": "code",
   "execution_count": 26,
   "id": "c630efd4-b90c-478f-88ca-441f79b195d9",
   "metadata": {},
   "outputs": [
    {
     "data": {
      "text/html": [
       "<div>\n",
       "<style scoped>\n",
       "    .dataframe tbody tr th:only-of-type {\n",
       "        vertical-align: middle;\n",
       "    }\n",
       "\n",
       "    .dataframe tbody tr th {\n",
       "        vertical-align: top;\n",
       "    }\n",
       "\n",
       "    .dataframe thead th {\n",
       "        text-align: right;\n",
       "    }\n",
       "</style>\n",
       "<table border=\"1\" class=\"dataframe\">\n",
       "  <thead>\n",
       "    <tr style=\"text-align: right;\">\n",
       "      <th></th>\n",
       "      <th>User ID</th>\n",
       "      <th>first_name</th>\n",
       "      <th>last_name</th>\n",
       "      <th>email</th>\n",
       "      <th>gender</th>\n",
       "      <th>age</th>\n",
       "    </tr>\n",
       "  </thead>\n",
       "  <tbody>\n",
       "    <tr>\n",
       "      <th>0</th>\n",
       "      <td>1</td>\n",
       "      <td>Zachariah</td>\n",
       "      <td>Hairyes</td>\n",
       "      <td>zhairyes0@epa.gov</td>\n",
       "      <td>Male</td>\n",
       "      <td>20</td>\n",
       "    </tr>\n",
       "    <tr>\n",
       "      <th>1</th>\n",
       "      <td>2</td>\n",
       "      <td>Doug</td>\n",
       "      <td>Minihan</td>\n",
       "      <td>dminihan1@cam.ac.uk</td>\n",
       "      <td>Non-binary</td>\n",
       "      <td>23</td>\n",
       "    </tr>\n",
       "    <tr>\n",
       "      <th>2</th>\n",
       "      <td>3</td>\n",
       "      <td>Yvonne</td>\n",
       "      <td>Kopps</td>\n",
       "      <td>ykopps2@live.com</td>\n",
       "      <td>Female</td>\n",
       "      <td>68</td>\n",
       "    </tr>\n",
       "  </tbody>\n",
       "</table>\n",
       "</div>"
      ],
      "text/plain": [
       "   User ID first_name last_name                email      gender  age\n",
       "0        1  Zachariah   Hairyes    zhairyes0@epa.gov        Male   20\n",
       "1        2       Doug   Minihan  dminihan1@cam.ac.uk  Non-binary   23\n",
       "2        3     Yvonne     Kopps     ykopps2@live.com      Female   68"
      ]
     },
     "execution_count": 26,
     "metadata": {},
     "output_type": "execute_result"
    }
   ],
   "source": [
    "users.head(3)"
   ]
  },
  {
   "cell_type": "code",
   "execution_count": 27,
   "id": "8adcc2d5-c6b4-4dc4-a25d-6bae2f9f44fb",
   "metadata": {},
   "outputs": [],
   "source": [
    "users = users[['User ID', 'email', 'age']]"
   ]
  },
  {
   "cell_type": "code",
   "execution_count": 28,
   "id": "bcd3e2a4-f91c-4e03-a864-a4596e1c4172",
   "metadata": {},
   "outputs": [
    {
     "data": {
      "text/html": [
       "<div>\n",
       "<style scoped>\n",
       "    .dataframe tbody tr th:only-of-type {\n",
       "        vertical-align: middle;\n",
       "    }\n",
       "\n",
       "    .dataframe tbody tr th {\n",
       "        vertical-align: top;\n",
       "    }\n",
       "\n",
       "    .dataframe thead th {\n",
       "        text-align: right;\n",
       "    }\n",
       "</style>\n",
       "<table border=\"1\" class=\"dataframe\">\n",
       "  <thead>\n",
       "    <tr style=\"text-align: right;\">\n",
       "      <th></th>\n",
       "      <th>User ID</th>\n",
       "      <th>email</th>\n",
       "      <th>age</th>\n",
       "    </tr>\n",
       "  </thead>\n",
       "  <tbody>\n",
       "    <tr>\n",
       "      <th>0</th>\n",
       "      <td>1</td>\n",
       "      <td>zhairyes0@epa.gov</td>\n",
       "      <td>20</td>\n",
       "    </tr>\n",
       "    <tr>\n",
       "      <th>1</th>\n",
       "      <td>2</td>\n",
       "      <td>dminihan1@cam.ac.uk</td>\n",
       "      <td>23</td>\n",
       "    </tr>\n",
       "    <tr>\n",
       "      <th>2</th>\n",
       "      <td>3</td>\n",
       "      <td>ykopps2@live.com</td>\n",
       "      <td>68</td>\n",
       "    </tr>\n",
       "  </tbody>\n",
       "</table>\n",
       "</div>"
      ],
      "text/plain": [
       "   User ID                email  age\n",
       "0        1    zhairyes0@epa.gov   20\n",
       "1        2  dminihan1@cam.ac.uk   23\n",
       "2        3     ykopps2@live.com   68"
      ]
     },
     "execution_count": 28,
     "metadata": {},
     "output_type": "execute_result"
    }
   ],
   "source": [
    "users.head(3)"
   ]
  },
  {
   "cell_type": "code",
   "execution_count": 29,
   "id": "2fc250af-3428-4435-b8c1-87139a1a30fb",
   "metadata": {},
   "outputs": [],
   "source": [
    "ratings = pd.read_csv('../Resources/user_ratings.csv')"
   ]
  },
  {
   "cell_type": "code",
   "execution_count": 30,
   "id": "c017eba8-8376-403e-8225-864aa0c3503f",
   "metadata": {},
   "outputs": [
    {
     "data": {
      "text/html": [
       "<div>\n",
       "<style scoped>\n",
       "    .dataframe tbody tr th:only-of-type {\n",
       "        vertical-align: middle;\n",
       "    }\n",
       "\n",
       "    .dataframe tbody tr th {\n",
       "        vertical-align: top;\n",
       "    }\n",
       "\n",
       "    .dataframe thead th {\n",
       "        text-align: right;\n",
       "    }\n",
       "</style>\n",
       "<table border=\"1\" class=\"dataframe\">\n",
       "  <thead>\n",
       "    <tr style=\"text-align: right;\">\n",
       "      <th></th>\n",
       "      <th>User ID</th>\n",
       "      <th>Game ID</th>\n",
       "      <th>Review Score</th>\n",
       "    </tr>\n",
       "  </thead>\n",
       "  <tbody>\n",
       "    <tr>\n",
       "      <th>0</th>\n",
       "      <td>321</td>\n",
       "      <td>169419</td>\n",
       "      <td>7</td>\n",
       "    </tr>\n",
       "    <tr>\n",
       "      <th>1</th>\n",
       "      <td>971</td>\n",
       "      <td>315015</td>\n",
       "      <td>0</td>\n",
       "    </tr>\n",
       "    <tr>\n",
       "      <th>2</th>\n",
       "      <td>311</td>\n",
       "      <td>384685</td>\n",
       "      <td>4</td>\n",
       "    </tr>\n",
       "  </tbody>\n",
       "</table>\n",
       "</div>"
      ],
      "text/plain": [
       "   User ID  Game ID  Review Score\n",
       "0      321   169419             7\n",
       "1      971   315015             0\n",
       "2      311   384685             4"
      ]
     },
     "execution_count": 30,
     "metadata": {},
     "output_type": "execute_result"
    }
   ],
   "source": [
    "ratings.head(3)"
   ]
  },
  {
   "cell_type": "code",
   "execution_count": 40,
   "id": "09207dae-5e17-473a-842d-68e0188c1e0b",
   "metadata": {},
   "outputs": [],
   "source": [
    "games.rename(columns={\n",
    "    \"id\":\"Game ID\"\n",
    "}, inplace=True)"
   ]
  },
  {
   "cell_type": "code",
   "execution_count": 41,
   "id": "62fd9957-0bd7-450f-ad4b-f2b17b8af09a",
   "metadata": {},
   "outputs": [
    {
     "data": {
      "text/html": [
       "<div>\n",
       "<style scoped>\n",
       "    .dataframe tbody tr th:only-of-type {\n",
       "        vertical-align: middle;\n",
       "    }\n",
       "\n",
       "    .dataframe tbody tr th {\n",
       "        vertical-align: top;\n",
       "    }\n",
       "\n",
       "    .dataframe thead th {\n",
       "        text-align: right;\n",
       "    }\n",
       "</style>\n",
       "<table border=\"1\" class=\"dataframe\">\n",
       "  <thead>\n",
       "    <tr style=\"text-align: right;\">\n",
       "      <th></th>\n",
       "      <th>Game ID</th>\n",
       "      <th>name</th>\n",
       "      <th>released</th>\n",
       "      <th>developers</th>\n",
       "      <th>publishers</th>\n",
       "    </tr>\n",
       "  </thead>\n",
       "  <tbody>\n",
       "    <tr>\n",
       "      <th>0</th>\n",
       "      <td>1</td>\n",
       "      <td>D/Generation HD</td>\n",
       "      <td>2015-10-23</td>\n",
       "      <td>West Coast Software</td>\n",
       "      <td>West Coast Software</td>\n",
       "    </tr>\n",
       "    <tr>\n",
       "      <th>1</th>\n",
       "      <td>10</td>\n",
       "      <td>G Prime Into The Rain</td>\n",
       "      <td>2016-01-06</td>\n",
       "      <td>Soma Games</td>\n",
       "      <td>Immanitas Entertainment||Code-Monkeys</td>\n",
       "    </tr>\n",
       "    <tr>\n",
       "      <th>2</th>\n",
       "      <td>100</td>\n",
       "      <td>Land Sliders</td>\n",
       "      <td>2015-09-24</td>\n",
       "      <td>Prettygreat Pty</td>\n",
       "      <td>Prettygreat Pty</td>\n",
       "    </tr>\n",
       "  </tbody>\n",
       "</table>\n",
       "</div>"
      ],
      "text/plain": [
       "   Game ID                   name    released           developers  \\\n",
       "0        1        D/Generation HD  2015-10-23  West Coast Software   \n",
       "1       10  G Prime Into The Rain  2016-01-06           Soma Games   \n",
       "2      100           Land Sliders  2015-09-24      Prettygreat Pty   \n",
       "\n",
       "                              publishers  \n",
       "0                    West Coast Software  \n",
       "1  Immanitas Entertainment||Code-Monkeys  \n",
       "2                        Prettygreat Pty  "
      ]
     },
     "execution_count": 41,
     "metadata": {},
     "output_type": "execute_result"
    }
   ],
   "source": [
    "games.head(3)"
   ]
  },
  {
   "cell_type": "code",
   "execution_count": 43,
   "id": "1d9a6715-a83c-431b-8efa-8a5d8246bd1a",
   "metadata": {},
   "outputs": [
    {
     "data": {
      "text/plain": [
       "(979, 3)"
      ]
     },
     "execution_count": 43,
     "metadata": {},
     "output_type": "execute_result"
    }
   ],
   "source": [
    "ratings.shape"
   ]
  },
  {
   "cell_type": "code",
   "execution_count": null,
   "id": "172a6928-4a46-403a-9157-7d29ff1d22ea",
   "metadata": {},
   "outputs": [],
   "source": []
  }
 ],
 "metadata": {
  "kernelspec": {
   "display_name": "Python 3 (ipykernel)",
   "language": "python",
   "name": "python3"
  },
  "language_info": {
   "codemirror_mode": {
    "name": "ipython",
    "version": 3
   },
   "file_extension": ".py",
   "mimetype": "text/x-python",
   "name": "python",
   "nbconvert_exporter": "python",
   "pygments_lexer": "ipython3",
   "version": "3.12.5"
  }
 },
 "nbformat": 4,
 "nbformat_minor": 5
}
